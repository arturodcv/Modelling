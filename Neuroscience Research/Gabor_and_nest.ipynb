{
 "cells": [
  {
   "cell_type": "code",
   "execution_count": 1,
   "metadata": {},
   "outputs": [],
   "source": [
    "import cv2\n",
    "import numpy as np\n",
    "import matplotlib.pyplot as plt\n",
    "import math\n",
    "import pandas as pd\n",
    "import os\n",
    "from PIL import Image\n",
    "import time\n",
    "from glob import glob\n",
    "import shutil\n",
    "from tqdm import tqdm"
   ]
  },
  {
   "cell_type": "code",
   "execution_count": 2,
   "metadata": {},
   "outputs": [],
   "source": [
    "def create_folder(path_name):\n",
    "    if not os.path.exists(path_name):\n",
    "        os.makedirs(path_name)"
   ]
  },
  {
   "cell_type": "code",
   "execution_count": 3,
   "metadata": {},
   "outputs": [],
   "source": [
    "def remove_contents(path_name):\n",
    "    for filename in os.listdir(path_name):\n",
    "        file_path = os.path.join(path_name, filename)\n",
    "        try:\n",
    "            if os.path.isfile(file_path) or os.path.islink(file_path):\n",
    "                os.unlink(file_path)\n",
    "            elif os.path.isdir(file_path):\n",
    "                shutil.rmtree(file_path)\n",
    "        except Exception as e:\n",
    "            print('Failed to delete %s. Reason: %s' % (file_path, e))"
   ]
  },
  {
   "cell_type": "code",
   "execution_count": 4,
   "metadata": {
    "scrolled": true
   },
   "outputs": [
    {
     "data": {
      "text/plain": [
       "<matplotlib.image.AxesImage at 0x7f13e7d9c860>"
      ]
     },
     "execution_count": 4,
     "metadata": {},
     "output_type": "execute_result"
    },
    {
     "data": {
      "image/png": "[encoded data removed]",
      "text/plain": [
       "<matplotlib.figure.Figure at 0x7f13ea068b70>"
      ]
     },
     "metadata": {
      "needs_background": "light"
     },
     "output_type": "display_data"
    }
   ],
   "source": [
    "#Read image\n",
    "img = cv2.imread(\"circle.png\")\n",
    "plt.imshow(img)"
   ]
  },
  {
   "cell_type": "markdown",
   "metadata": {},
   "source": [
    "#### Filtro Gabor "
   ]
  },
  {
   "cell_type": "code",
   "execution_count": 5,
   "metadata": {},
   "outputs": [],
   "source": [
    "def gabor_filter(K_size,Lambda, Theta, Sigma, Gamma, Psi, mode):\n",
    "\n",
    "    gabor = np.zeros((K_size, K_size), dtype=np.float32)\n",
    "\n",
    "    for x in range(K_size):\n",
    "        for y in range(K_size):\n",
    "            \n",
    "            # distancias\n",
    "            dx = x - K_size // 2\n",
    "            dy = y - K_size // 2\n",
    "\n",
    "            x_ = np.cos(Theta) * dx + np.sin(Theta) * dy\n",
    "            y_ = -np.sin(Theta) * dx + np.cos(Theta) * dy\n",
    "\n",
    "            gabor[x, y] = np.exp(-(x_**2 + Gamma**2 * y_**2) / (2 * Sigma**2)) * np.cos(2*np.pi*x_/Lambda + Psi)\n",
    "    \n",
    "    if mode == 'on':\n",
    "        gabor = gabor\n",
    "\n",
    "    elif mode == 'off':\n",
    "        gabor = -gabor\n",
    "\n",
    "    return gabor"
   ]
  },
  {
   "cell_type": "code",
   "execution_count": 6,
   "metadata": {},
   "outputs": [],
   "source": [
    "def apply_filter(gray_img, K_size, Lambda, Theta, Sigma, Gamma, Psi, mode):\n",
    "\n",
    "    # imagen con los bordes extendidos\n",
    "    gray = np.pad(gray_img, (K_size//2, K_size//2), 'edge')\n",
    "\n",
    "    output = np.zeros((gray_img.shape[0],gray_img.shape[1]), dtype=np.float32)\n",
    "\n",
    "    gabor = gabor_filter(K_size = K_size, Lambda = Lambda, Theta = Theta, Sigma = Sigma, Gamma = Gamma, Psi = 0, mode = mode)\n",
    "    for x in range(gray_img.shape[0]):\n",
    "        for y in range(gray_img.shape[1]):\n",
    "            output[x, y] = np.sum(gray[x : x + K_size, y : y + K_size] * gabor)\n",
    "            \n",
    "    return output"
   ]
  },
  {
   "cell_type": "code",
   "execution_count": 7,
   "metadata": {},
   "outputs": [],
   "source": [
    "def gabor(gray_img,orientation_in_radians, mode):\n",
    "\n",
    "    output = np.zeros((gray_img.shape[0],gray_img.shape[1]), dtype=np.float32) \n",
    "    \n",
    "    orientation = orientation_in_radians*math.pi/180\n",
    "    \n",
    "    output = apply_filter(gray_img, K_size=11, Lambda=3, Theta=orientation, Sigma=1, Gamma=1.2,Psi = 0, mode = mode )\n",
    "    output = np.clip(output, 0, np.max(output))\n",
    "    \n",
    "    return output"
   ]
  },
  {
   "cell_type": "markdown",
   "metadata": {},
   "source": [
    "## Image"
   ]
  },
  {
   "cell_type": "code",
   "execution_count": 8,
   "metadata": {
    "scrolled": true
   },
   "outputs": [
    {
     "data": {
      "image/png": "[encoded data removed]",
      "text/plain": [
       "<matplotlib.figure.Figure at 0x7f13e7d73d68>"
      ]
     },
     "metadata": {
      "needs_background": "light"
     },
     "output_type": "display_data"
    }
   ],
   "source": [
    "#img = cv2.imread(\"circle.png\")\n",
    "img = cv2.imread(\"Captura.PNG\")\n",
    "#img = cv2.imread(\"sinusoide.png\")\n",
    "gray_img = cv2.cvtColor(img, cv2.COLOR_BGR2GRAY)\n",
    "\n",
    "output = gabor(gray_img,90,'on')\n",
    "\n",
    "plt.imshow(output)\n",
    "plt.colorbar()\n",
    "plt.show()"
   ]
  },
  {
   "cell_type": "markdown",
   "metadata": {},
   "source": [
    "## Nest"
   ]
  },
  {
   "cell_type": "code",
   "execution_count": 9,
   "metadata": {},
   "outputs": [],
   "source": [
    "import nest\n",
    "import pylab\n",
    "import nest.topology as tp\n",
    "nest.ResetKernel()\n",
    "nest.Install('mymodule')"
   ]
  },
  {
   "cell_type": "code",
   "execution_count": 10,
   "metadata": {},
   "outputs": [],
   "source": [
    "#Set Size\n",
    "x_cortex_size = 20\n",
    "y_cortex_size = 20\n",
    "cortex_size = x_cortex_size * y_cortex_size"
   ]
  },
  {
   "cell_type": "code",
   "execution_count": 11,
   "metadata": {},
   "outputs": [],
   "source": [
    "def input_treatment(input_spike,x_cortex_size,y_cortex_size,max_value):\n",
    "    input_as_img = Image.fromarray(input_spike)\n",
    "    input_resized = input_as_img.resize((x_cortex_size,y_cortex_size))\n",
    "    input_norm = np.divide(input_resized,np.max(input_resized)) * max_value\n",
    "    \n",
    "    input_transposed = input_norm.transpose()\n",
    "    input_as_list = input_transposed.tolist()\n",
    "    flat_list = [item for sublist in input_as_list for item in sublist]\n",
    "    return flat_list"
   ]
  },
  {
   "cell_type": "code",
   "execution_count": 12,
   "metadata": {},
   "outputs": [],
   "source": [
    "# Orientation = 0 # ON\n",
    "max_normalized_value = 100.0\n",
    "output_gabor_0 = gabor(gray_img,0,'on')\n",
    "input_spike = output_gabor_0[25:45, 25:45]\n",
    "#input_spike = output_gabor_90[5:55, 5:55]\n",
    "flat_list_0_on = input_treatment(input_spike,x_cortex_size,y_cortex_size,max_normalized_value)"
   ]
  },
  {
   "cell_type": "code",
   "execution_count": 13,
   "metadata": {},
   "outputs": [],
   "source": [
    "#flat_list_0_on = [0.0] * x_cortex_size ** 2\n",
    "#flat_list_0_on[230] = 40.0"
   ]
  },
  {
   "cell_type": "code",
   "execution_count": 14,
   "metadata": {
    "scrolled": true
   },
   "outputs": [
    {
     "data": {
      "image/png": "[encoded data removed]",
      "text/plain": [
       "<matplotlib.figure.Figure at 0x7f13e0181780>"
      ]
     },
     "metadata": {
      "needs_background": "light"
     },
     "output_type": "display_data"
    }
   ],
   "source": [
    "plt.imshow(input_spike)\n",
    "plt.colorbar()\n",
    "plt.show()"
   ]
  },
  {
   "cell_type": "markdown",
   "metadata": {},
   "source": [
    "## Nest Stuff"
   ]
  },
  {
   "cell_type": "code",
   "execution_count": 15,
   "metadata": {},
   "outputs": [],
   "source": [
    "local_num_threads = 3\n",
    "total_num_virtual_procs = 2\n",
    "resolution = 0.1\n",
    "\n",
    "nest.ResetKernel()\n",
    "nest.SetKernelStatus({'local_num_threads':local_num_threads})\n",
    "nest.SetKernelStatus({\"total_num_virtual_procs\": total_num_virtual_procs})\n",
    "nest.SetKernelStatus({'print_time':True})\n",
    "nest.SetKernelStatus({'overwrite_files':True})\n",
    "nest.SetKernelStatus({\"resolution\": resolution})"
   ]
  },
  {
   "cell_type": "markdown",
   "metadata": {},
   "source": [
    "## Models"
   ]
  },
  {
   "cell_type": "code",
   "execution_count": 16,
   "metadata": {},
   "outputs": [],
   "source": [
    "# Mas adelante meter ruido?\n",
    "RS_dict =  {'a':0.02, 'b':0.2, 'c':-65.,'d':8.0, 'V_th':30.}\n",
    "FS_dict =  {'a':0.1, 'b':0.2, 'c':-65., 'd':2.0, 'V_th':30.}\n",
    "\n",
    "nest.CopyModel(\"izhikevich\",\"exc\", RS_dict)\n",
    "nest.CopyModel(\"izhikevich\",\"inh\", FS_dict) "
   ]
  },
  {
   "cell_type": "markdown",
   "metadata": {},
   "source": [
    "## Layers"
   ]
  },
  {
   "cell_type": "code",
   "execution_count": 17,
   "metadata": {},
   "outputs": [],
   "source": [
    "def create_layer(rows,columns,extent,elements,neurons_per_column):\n",
    "    return tp.CreateLayer({'rows': rows,'columns': columns,'extent': extent,'elements': [elements,neurons_per_column],'edge_wrap': False})         "
   ]
  },
  {
   "cell_type": "code",
   "execution_count": 18,
   "metadata": {},
   "outputs": [],
   "source": [
    "extent = [1.0,1.0]\n",
    "ratio_exc_inh = 1\n",
    "neurons_per_column_inh = 1\n",
    "neurons_per_column_exc = ratio_exc_inh * neurons_per_column_inh\n",
    "poisson_bias = 5.0\n",
    "\n",
    "# Orientation 0\n",
    "l_exc_0_on  = create_layer(x_cortex_size,y_cortex_size,extent,'exc',neurons_per_column_exc)\n",
    "l_inh_0_on  = create_layer(x_cortex_size,y_cortex_size,extent,'inh',neurons_per_column_inh)\n",
    "#l_exc_0_off  = create_layer(x_cortex_size,y_cortex_size,extent,'exc')#,neurons_per_column_exc)\n",
    "#l_inh_0_off  = create_layer(x_cortex_size,y_cortex_size,extent,'inh')#,neurons_per_column_inh)\n"
   ]
  },
  {
   "cell_type": "code",
   "execution_count": 19,
   "metadata": {},
   "outputs": [
    {
     "data": {
      "text/plain": [
       "3619.9312327329317"
      ]
     },
     "execution_count": 19,
     "metadata": {},
     "output_type": "execute_result"
    }
   ],
   "source": [
    "sum(flat_list_0_on) - poisson_bias*x_cortex_size**2"
   ]
  },
  {
   "cell_type": "markdown",
   "metadata": {},
   "source": [
    "## Poisson generators"
   ]
  },
  {
   "cell_type": "code",
   "execution_count": 20,
   "metadata": {},
   "outputs": [],
   "source": [
    "factor = 430"
   ]
  },
  {
   "cell_type": "code",
   "execution_count": 21,
   "metadata": {},
   "outputs": [
    {
     "name": "stderr",
     "output_type": "stream",
     "text": [
      "/home/nest/work/install-nest/lib/python3.6/site-packages/nest/lib/hl_api_helper.py:127: UserWarning:\n",
      "GetNodes is deprecated and will be removed in NEST 3.0. Use             GIDCollection instead.\n"
     ]
    }
   ],
   "source": [
    "# Poisson layers\n",
    "l_poiss_0_on = create_layer(x_cortex_size,y_cortex_size,extent,'poisson_generator',1)\n",
    "\n",
    "fixed_list = [i*factor + poisson_bias for i in flat_list_0_on]\n",
    "nest.SetStatus(nest.GetNodes(l_poiss_0_on)[0],'rate', fixed_list)\n"
   ]
  },
  {
   "cell_type": "markdown",
   "metadata": {},
   "source": [
    "## Spike Detectors"
   ]
  },
  {
   "cell_type": "code",
   "execution_count": 22,
   "metadata": {},
   "outputs": [],
   "source": [
    "#Spike detectors\n",
    "#sd_parrot = nest.Create('spike_detector', params = {'to_file': True})\n",
    "sd_exc_0_on = nest.Create('spike_detector', params = {'to_file': True})\n",
    "sd_inh_0_on = nest.Create('spike_detector', params = {'to_file': True})"
   ]
  },
  {
   "cell_type": "markdown",
   "metadata": {},
   "source": [
    "## Parrot Layers"
   ]
  },
  {
   "cell_type": "code",
   "execution_count": 23,
   "metadata": {},
   "outputs": [],
   "source": [
    "#l_parrots = create_layer(x_cortex_size,y_cortex_size,extent,'parrot_neuron',1)"
   ]
  },
  {
   "cell_type": "markdown",
   "metadata": {},
   "source": [
    "## Dictionaries"
   ]
  },
  {
   "cell_type": "code",
   "execution_count": 24,
   "metadata": {},
   "outputs": [],
   "source": [
    "input_weight_exc = 1.0\n",
    "input_weight_inh = 1.0\n",
    "ratio_inh_exc_w = 4\n",
    "weight_exc = 1.0 \n",
    "weigth_inh = - ratio_inh_exc_w * weight_exc\n",
    "delay_exc_min = 2.0\n",
    "slowness_exc = 5.0\n",
    "delay_inh_min = 0.5\n",
    "slowness_inh = 0.01 * slowness_exc\n",
    "crf_conn_factor = 2.5\n",
    "stddev_c_rf = 0.08\n",
    "stddev_lat_conn_inh = 3 * stddev_c_rf\n",
    "syn_weight_exc = 1\n",
    "syn_weight_inh = - ratio_inh_exc_w * syn_weight_exc\n",
    "n_sigmas_inside_mask = 3\n",
    "n_sigmas_inside_mask_4cbeta = 2.25\n",
    "stddev_lat_conn_inh_4cbeta = 3 * stddev_c_rf\n",
    "n_microcolumn_height = 1\n",
    "n_microcolumn_width = 1\n",
    "n_rows_rf_4cbeta_cen = int(stddev_c_rf * n_sigmas_inside_mask * 2 * n_microcolumn_height) + 1\n",
    "n_cols_rf_4cbeta_cen = int(stddev_c_rf * n_sigmas_inside_mask * 2 * n_microcolumn_width) + 1\n",
    "n_rows_latconn_inh_4cbeta = int(stddev_lat_conn_inh_4cbeta * n_sigmas_inside_mask_4cbeta * 2 * n_microcolumn_height) + 1\n",
    "n_cols_latconn_inh_4cbeta = int(stddev_lat_conn_inh_4cbeta * n_sigmas_inside_mask_4cbeta * 2 * n_microcolumn_width) + 1\n",
    "allow_autapses = True\n",
    "allow_multapses = False\n",
    "\n",
    "def create_lat_dict(conn_type,weight_type,min_delay_type,slowness_type):\n",
    "    return  {'connection_type': 'convergent',                   \n",
    "             'weights': weight_type,\n",
    "             'delays': {'linear':{'c':min_delay_type,'a':slowness_type}},\n",
    "             'allow_autapses': allow_autapses, 'allow_multapses': allow_multapses\n",
    "            }\n",
    "\n",
    "dict_poiss_to_exc  = {'connection_type': 'divergent','mask': {'grid': {'rows': 1, 'columns': 1}},'weights': input_weight_exc, \n",
    "                      'allow_autapses': allow_autapses, 'allow_multapses': allow_multapses}\n",
    "\n",
    "dict_poiss_to_inh  = {'connection_type': 'divergent','mask': {'grid': {'rows': 1, 'columns': 1}},'weights': 1.0, \n",
    "                      'allow_autapses': allow_autapses, 'allow_multapses': allow_multapses}\n",
    "\n",
    "dict_divergent = {'connection_type': 'divergent','mask': {'grid': {'rows': 1, 'columns': 1}},\n",
    "                      'allow_autapses': allow_autapses, 'allow_multapses': allow_multapses}\n",
    "\n",
    "dict_self_exc = {'connection_type': 'convergent', \n",
    "                 'mask': {'grid': {'rows': n_rows_rf_4cbeta_cen, 'columns': n_cols_rf_4cbeta_cen},\n",
    "                          'anchor':{'row':int((n_rows_rf_4cbeta_cen-1)/2),'column':int((n_cols_rf_4cbeta_cen-1)/2)}},\n",
    "                 'kernel': {'gaussian2D':{'p_center':1., 'sigma_x':stddev_c_rf, 'sigma_y':stddev_c_rf}},\n",
    "                 'weights': crf_conn_factor * 4 / (neurons_per_column_exc * stddev_c_rf**2), \n",
    "                 'allow_autapses': allow_autapses, 'allow_multapses': allow_multapses}\n",
    "\n",
    "dict_self_inh = {'connection_type': 'convergent', \n",
    "                 'mask': {'grid': {'rows': n_rows_rf_4cbeta_cen, 'columns': n_cols_rf_4cbeta_cen},\n",
    "                          'anchor':{'row':int((n_rows_rf_4cbeta_cen-1)/2),'column':int((n_cols_rf_4cbeta_cen-1)/2)}},\n",
    "                 'kernel': {'gaussian2D':{'p_center':1., 'sigma_x':stddev_c_rf, 'sigma_y':stddev_c_rf}},\n",
    "                 'weights': - crf_conn_factor * 2 * 4 / (neurons_per_column_inh * stddev_c_rf**2), \n",
    "                 'allow_autapses': allow_autapses, 'allow_multapses': allow_multapses}\n",
    "\n",
    "dict_lat_exc = create_lat_dict('convergent',0.2 * weight_exc,delay_exc_min,slowness_exc)\n",
    "dict_lat_inh = create_lat_dict('convergent',0.2 * weigth_inh,delay_inh_min,slowness_inh) \n",
    "dict_lat_inh_to_exc =  {'connection_type': 'convergent',\n",
    "                        #'mask': {'grid':{'rows':n_rows_latconn_inh_4cbeta,'columns':n_cols_latconn_inh_4cbeta}, \n",
    "                        #         'anchor':{'row':(n_rows_latconn_inh_4cbeta-1)/2,'column':(n_cols_latconn_inh_4cbeta-1)/2}},\n",
    "                        'delays': {'linear':{'c':delay_inh_min,'a':slowness_inh}},\n",
    "                        'kernel': {'gaussian2D':{'p_center':1., 'sigma_x':stddev_lat_conn_inh, 'sigma_y':stddev_lat_conn_inh}},\n",
    "                        'weights': 0.2 * syn_weight_inh , \n",
    "                        'allow_autapses': allow_autapses, 'allow_multapses': allow_multapses}"
   ]
  },
  {
   "cell_type": "markdown",
   "metadata": {},
   "source": [
    "## Connectivity"
   ]
  },
  {
   "cell_type": "markdown",
   "metadata": {},
   "source": [
    "#### Poisson to layer connections"
   ]
  },
  {
   "cell_type": "code",
   "execution_count": 25,
   "metadata": {},
   "outputs": [],
   "source": [
    "#tp.ConnectLayers(l_poiss_0_on,l_parrots, dict_divergent)\n",
    "\n",
    "tp.ConnectLayers(l_poiss_0_on, l_exc_0_on, dict_poiss_to_exc)\n",
    "tp.ConnectLayers(l_poiss_0_on, l_inh_0_on, dict_poiss_to_inh)"
   ]
  },
  {
   "cell_type": "markdown",
   "metadata": {},
   "source": [
    "#### Self connections"
   ]
  },
  {
   "cell_type": "code",
   "execution_count": 26,
   "metadata": {},
   "outputs": [],
   "source": [
    "def update_dict(dictionary, kernel_type, orientation_i, orientation_j):\n",
    "    new_dict = {'kernel': {kernel_type: {'rows': float(x_cortex_size), 'kappa': 1.0,\n",
    "                                         'orientation_i': orientation_i, 'orientation_j': orientation_j }}}\n",
    "    new_dict.update(dictionary)\n",
    "    return new_dict"
   ]
  },
  {
   "cell_type": "code",
   "execution_count": 27,
   "metadata": {},
   "outputs": [],
   "source": [
    "tp.ConnectLayers(l_exc_0_on, l_exc_0_on, update_dict(dict_lat_exc,'PlosOne_J',0.0,0.0))\n",
    "tp.ConnectLayers(l_exc_0_on, l_inh_0_on, update_dict(dict_lat_inh,'PlosOne_W',0.0,0.0))\n",
    "tp.ConnectLayers(l_inh_0_on, l_exc_0_on, dict_self_inh)\n",
    "tp.ConnectLayers(l_inh_0_on, l_inh_0_on, dict_self_inh)"
   ]
  },
  {
   "cell_type": "markdown",
   "metadata": {},
   "source": [
    "#### Lateral conections"
   ]
  },
  {
   "cell_type": "markdown",
   "metadata": {},
   "source": [
    "#### Record connections"
   ]
  },
  {
   "cell_type": "code",
   "execution_count": 28,
   "metadata": {
    "scrolled": true
   },
   "outputs": [
    {
     "name": "stderr",
     "output_type": "stream",
     "text": [
      "/home/nest/work/install-nest/lib/python3.6/site-packages/nest/lib/hl_api_helper.py:127: UserWarning:\n",
      "GetLeaves is deprecated and will be removed in NEST 3.0. Use             GIDCollection instead.\n"
     ]
    }
   ],
   "source": [
    "#leaves_parrot = nest.GetLeaves(l_parrots, local_only=True)[0]\n",
    "#nest.Connect(leaves_parrot, sd_parrot)\n",
    "#spike_detectors = [sd_parrot]\n",
    "#layers_to_record = {'l_parrots': l_parrots}\n",
    "    \n",
    "leaves_exc_0_on = nest.GetLeaves(l_exc_0_on, local_only=True)[0]\n",
    "nest.Connect(leaves_exc_0_on, sd_exc_0_on)\n",
    "\n",
    "leaves_inh_0_on = nest.GetLeaves(l_inh_0_on, local_only=True)[0]\n",
    "nest.Connect(leaves_inh_0_on, sd_inh_0_on)\n",
    "\n",
    "spike_detectors = [sd_exc_0_on, sd_inh_0_on]\n",
    "#spike_detectors = [sd_exc_0_on]\n",
    "layers_to_record = {'l_exc_0_on': l_exc_0_on, 'l_inh_0_on': l_inh_0_on}\n",
    "#layers_to_record = {'l_exc_0_on': l_exc_0_on}"
   ]
  },
  {
   "cell_type": "markdown",
   "metadata": {},
   "source": [
    "## Simulation"
   ]
  },
  {
   "cell_type": "code",
   "execution_count": 29,
   "metadata": {},
   "outputs": [],
   "source": [
    "#Create folder for spike_detectors.gdf\n",
    "sd_path = 'spk_detectors_folder' \n",
    "create_folder(sd_path)\n",
    "remove_contents(sd_path)"
   ]
  },
  {
   "cell_type": "markdown",
   "metadata": {},
   "source": [
    "#### Simulate"
   ]
  },
  {
   "cell_type": "code",
   "execution_count": 30,
   "metadata": {
    "scrolled": true
   },
   "outputs": [
    {
     "name": "stdout",
     "output_type": "stream",
     "text": [
      "4.25030517578125\n"
     ]
    }
   ],
   "source": [
    "simulation_time = 1000.0\n",
    "t = time.time()\n",
    "nest.Simulate(simulation_time)\n",
    "print(time.time() - t)"
   ]
  },
  {
   "cell_type": "code",
   "execution_count": 31,
   "metadata": {},
   "outputs": [],
   "source": [
    "#move files\n",
    "files = glob('*spike_detector*')\n",
    "for file in files:\n",
    "    shutil.move(file, sd_path + '/' + file)"
   ]
  },
  {
   "cell_type": "markdown",
   "metadata": {},
   "source": [
    "## Data treatment"
   ]
  },
  {
   "cell_type": "code",
   "execution_count": 32,
   "metadata": {},
   "outputs": [
    {
     "name": "stdout",
     "output_type": "stream",
     "text": [
      "0.8526990413665771\n"
     ]
    }
   ],
   "source": [
    "t = time.time()\n",
    "for layer,j in zip(layers_to_record,range(0,len(layers_to_record))):\n",
    "    tp.DumpLayerNodes(layers_to_record[layer],'out')\n",
    "    positions = pd.read_table('out',names = ['Number','x_pos','y_pos'], index_col=False, sep = ' ')\n",
    "    os.remove('out')\n",
    "    #positions['Number'] = positions.Number.astype(int)\n",
    "    \n",
    "    data = []\n",
    "    for i in range(0,total_num_virtual_procs): \n",
    "        name = sd_path + '/spike_detector-' + str(spike_detectors[j][0]) + '-' + str(i) + '.gdf'\n",
    "        data.append(pd.read_table(name,names = ['Number','Time'], index_col=False))\n",
    "    data = pd.concat(data)\n",
    "    data = data.set_index(([pd.Index([i for i in range(0,len(data))])]))\n",
    "    data['Number'] = data.Number.astype(float)\n",
    "    data = pd.merge(data,positions,how = 'left',on = 'Number' )\n",
    "    #Save dataframe\n",
    "    data.to_pickle('./data_' + str(layer) +'.pkl')\n",
    "\n",
    "del(data)\n",
    "del(positions)\n",
    "print(time.time() - t)"
   ]
  },
  {
   "cell_type": "code",
   "execution_count": null,
   "metadata": {},
   "outputs": [],
   "source": []
  }
 ],
 "metadata": {
  "kernelspec": {
   "display_name": "Python 3",
   "language": "python",
   "name": "python3"
  },
  "language_info": {
   "codemirror_mode": {
    "name": "ipython",
    "version": 3
   },
   "file_extension": ".py",
   "mimetype": "text/x-python",
   "name": "python",
   "nbconvert_exporter": "python",
   "pygments_lexer": "ipython3",
   "version": "3.6.9"
  }
 },
 "nbformat": 4,
 "nbformat_minor": 4
}
